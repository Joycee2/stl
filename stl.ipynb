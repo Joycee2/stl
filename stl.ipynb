{
  "nbformat": 4,
  "nbformat_minor": 0,
  "metadata": {
    "colab": {
      "provenance": []
    },
    "kernelspec": {
      "name": "python3",
      "display_name": "Python 3"
    },
    "language_info": {
      "name": "python"
    }
  },
  "cells": [
    {
      "cell_type": "code",
      "source": [
        "import streamlit as st\n",
        "import pandas as pd\n",
        "\n",
        "# Task 1: Initialize Session State for storing student data\n",
        "if \"students\" not in st.session_state:\n",
        "    st.session_state.students = []  # Initialize as an empty list\n",
        "\n",
        "# Title\n",
        "st.title(\"Student Tracker\")\n",
        "\n",
        "# Section: Adding Student Data\n",
        "st.header(\"Add Student\")\n",
        "name = st.text_input(\"Enter Student Name:\")\n",
        "score = st.number_input(\"Enter Score:\", min_value=0, max_value=100, step=1)\n",
        "\n",
        "if st.button(\"Add Student\"):\n",
        "    if name.strip() == \"\":\n",
        "        st.error(\"Student name cannot be empty.\")\n",
        "    else:\n",
        "        # Add student data to session state\n",
        "        st.session_state.students.append({\"Name\": name, \"Score\": score})\n",
        "        st.success(f\"Student '{name}' with score {score} added!\")\n",
        "\n",
        "# Task 2: Displaying and Filtering Student Data\n",
        "if st.session_state.students:\n",
        "    st.header(\"Student Data\")\n",
        "\n",
        "    # Convert session state data to a DataFrame\n",
        "    df = pd.DataFrame(st.session_state.students)\n",
        "\n",
        "    # Display the DataFrame\n",
        "    st.write(\"All Students:\")\n",
        "    st.dataframe(df)\n",
        "\n",
        "    # Filtering based on minimum score\n",
        "    st.subheader(\"Filter Students by Minimum Score\")\n",
        "    min_score = st.slider(\"Select Minimum Score\", min_value=0, max_value=100, value=50, step=1)\n",
        "\n",
        "    # Filter DataFrame\n",
        "    filtered_df = df[df[\"Score\"] >= min_score]\n",
        "    st.write(f\"Students with scores >= {min_score}:\")\n",
        "    st.dataframe(filtered_df)\n",
        "else:\n",
        "    st.info(\"No students have been added yet.\")\n"
      ],
      "metadata": {
        "id": "3iY-s-L16N4u"
      },
      "execution_count": 1,
      "outputs": []
    }
  ]
}